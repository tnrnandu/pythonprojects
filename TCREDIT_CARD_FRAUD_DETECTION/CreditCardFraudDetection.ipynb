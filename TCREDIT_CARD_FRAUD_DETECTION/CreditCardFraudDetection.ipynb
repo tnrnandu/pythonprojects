{
  "nbformat": 4,
  "nbformat_minor": 0,
  "metadata": {
    "colab": {
      "name": "CreditCardFraudDetection.ipynb",
      "provenance": []
    },
    "kernelspec": {
      "name": "python3",
      "display_name": "Python 3"
    }
  },
  "cells": [
    {
      "cell_type": "markdown",
      "metadata": {
        "id": "Qvrf7aY2u6Io"
      },
      "source": [
        "**Credit Card Fraud Detection**\r\n",
        "\r\n",
        "---\r\n",
        "This model will help to recognize fraudent credit card transaction , so that customers are not charged for the items that they have not purchased.\r\n"
      ]
    },
    {
      "cell_type": "code",
      "metadata": {
        "id": "JpCXjG6zv2BE"
      },
      "source": [
        "#Importing all the necessary libraries\r\n",
        "import numpy as np\r\n",
        "import pandas as pd\r\n",
        "import matplotlib.pyplot as plt\r\n",
        "import seaborn as sns\r\n",
        "from matplotlib import gridspec"
      ],
      "execution_count": 1,
      "outputs": []
    },
    {
      "cell_type": "code",
      "metadata": {
        "colab": {
          "base_uri": "https://localhost:8080/",
          "height": 217
        },
        "id": "ambwBXf3wve9",
        "outputId": "cfb6ca2f-e84c-4c85-c075-7b00d9fe5e27"
      },
      "source": [
        "#Importing the dataset from the  csv file\r\n",
        "data=pd.read_csv('/content/creditcard.csv')\r\n",
        "data.sample(5)"
      ],
      "execution_count": 7,
      "outputs": [
        {
          "output_type": "execute_result",
          "data": {
            "text/html": [
              "<div>\n",
              "<style scoped>\n",
              "    .dataframe tbody tr th:only-of-type {\n",
              "        vertical-align: middle;\n",
              "    }\n",
              "\n",
              "    .dataframe tbody tr th {\n",
              "        vertical-align: top;\n",
              "    }\n",
              "\n",
              "    .dataframe thead th {\n",
              "        text-align: right;\n",
              "    }\n",
              "</style>\n",
              "<table border=\"1\" class=\"dataframe\">\n",
              "  <thead>\n",
              "    <tr style=\"text-align: right;\">\n",
              "      <th></th>\n",
              "      <th>Time</th>\n",
              "      <th>V1</th>\n",
              "      <th>V2</th>\n",
              "      <th>V3</th>\n",
              "      <th>V4</th>\n",
              "      <th>V5</th>\n",
              "      <th>V6</th>\n",
              "      <th>V7</th>\n",
              "      <th>V8</th>\n",
              "      <th>V9</th>\n",
              "      <th>V10</th>\n",
              "      <th>V11</th>\n",
              "      <th>V12</th>\n",
              "      <th>V13</th>\n",
              "      <th>V14</th>\n",
              "      <th>V15</th>\n",
              "      <th>V16</th>\n",
              "      <th>V17</th>\n",
              "      <th>V18</th>\n",
              "      <th>V19</th>\n",
              "      <th>V20</th>\n",
              "      <th>V21</th>\n",
              "      <th>V22</th>\n",
              "      <th>V23</th>\n",
              "      <th>V24</th>\n",
              "      <th>V25</th>\n",
              "      <th>V26</th>\n",
              "      <th>V27</th>\n",
              "      <th>V28</th>\n",
              "      <th>Amount</th>\n",
              "      <th>Class</th>\n",
              "    </tr>\n",
              "  </thead>\n",
              "  <tbody>\n",
              "    <tr>\n",
              "      <th>77008</th>\n",
              "      <td>56841.0</td>\n",
              "      <td>1.137066</td>\n",
              "      <td>0.198191</td>\n",
              "      <td>0.487977</td>\n",
              "      <td>1.290505</td>\n",
              "      <td>-0.399763</td>\n",
              "      <td>-0.607979</td>\n",
              "      <td>0.018824</td>\n",
              "      <td>-0.033684</td>\n",
              "      <td>0.096579</td>\n",
              "      <td>0.040594</td>\n",
              "      <td>-0.061494</td>\n",
              "      <td>-0.122744</td>\n",
              "      <td>-0.945553</td>\n",
              "      <td>0.560406</td>\n",
              "      <td>1.267106</td>\n",
              "      <td>-0.193082</td>\n",
              "      <td>-0.023509</td>\n",
              "      <td>-0.509760</td>\n",
              "      <td>-0.954792</td>\n",
              "      <td>-0.210377</td>\n",
              "      <td>0.118273</td>\n",
              "      <td>0.344390</td>\n",
              "      <td>-0.041974</td>\n",
              "      <td>0.392513</td>\n",
              "      <td>0.520993</td>\n",
              "      <td>-0.270156</td>\n",
              "      <td>0.026225</td>\n",
              "      <td>0.022775</td>\n",
              "      <td>19.90</td>\n",
              "      <td>0.0</td>\n",
              "    </tr>\n",
              "    <tr>\n",
              "      <th>72778</th>\n",
              "      <td>54854.0</td>\n",
              "      <td>1.074413</td>\n",
              "      <td>-0.218444</td>\n",
              "      <td>0.621600</td>\n",
              "      <td>-0.200875</td>\n",
              "      <td>-0.138312</td>\n",
              "      <td>0.818131</td>\n",
              "      <td>-0.533301</td>\n",
              "      <td>0.408467</td>\n",
              "      <td>0.347610</td>\n",
              "      <td>-0.405675</td>\n",
              "      <td>1.033836</td>\n",
              "      <td>0.733628</td>\n",
              "      <td>0.049133</td>\n",
              "      <td>0.259668</td>\n",
              "      <td>2.310710</td>\n",
              "      <td>-0.958433</td>\n",
              "      <td>0.956446</td>\n",
              "      <td>-2.477004</td>\n",
              "      <td>-1.646190</td>\n",
              "      <td>-0.210919</td>\n",
              "      <td>0.007529</td>\n",
              "      <td>0.188536</td>\n",
              "      <td>0.264356</td>\n",
              "      <td>-0.584891</td>\n",
              "      <td>-0.239169</td>\n",
              "      <td>1.013203</td>\n",
              "      <td>0.001636</td>\n",
              "      <td>-0.002091</td>\n",
              "      <td>1.69</td>\n",
              "      <td>0.0</td>\n",
              "    </tr>\n",
              "    <tr>\n",
              "      <th>153549</th>\n",
              "      <td>99410.0</td>\n",
              "      <td>-1.990375</td>\n",
              "      <td>1.993107</td>\n",
              "      <td>2.809257</td>\n",
              "      <td>4.318494</td>\n",
              "      <td>-0.659549</td>\n",
              "      <td>1.073989</td>\n",
              "      <td>-0.559037</td>\n",
              "      <td>0.323636</td>\n",
              "      <td>1.654405</td>\n",
              "      <td>3.149553</td>\n",
              "      <td>-0.380589</td>\n",
              "      <td>-4.529612</td>\n",
              "      <td>-0.243285</td>\n",
              "      <td>0.782775</td>\n",
              "      <td>1.032213</td>\n",
              "      <td>0.425087</td>\n",
              "      <td>0.582722</td>\n",
              "      <td>1.301665</td>\n",
              "      <td>0.492717</td>\n",
              "      <td>0.901704</td>\n",
              "      <td>-0.270491</td>\n",
              "      <td>0.325413</td>\n",
              "      <td>-0.114781</td>\n",
              "      <td>-0.096169</td>\n",
              "      <td>0.216496</td>\n",
              "      <td>0.536471</td>\n",
              "      <td>0.838684</td>\n",
              "      <td>0.398057</td>\n",
              "      <td>0.97</td>\n",
              "      <td>0.0</td>\n",
              "    </tr>\n",
              "    <tr>\n",
              "      <th>84904</th>\n",
              "      <td>60512.0</td>\n",
              "      <td>-1.070322</td>\n",
              "      <td>1.218168</td>\n",
              "      <td>2.559825</td>\n",
              "      <td>0.657219</td>\n",
              "      <td>0.772074</td>\n",
              "      <td>0.058858</td>\n",
              "      <td>1.055657</td>\n",
              "      <td>-0.125679</td>\n",
              "      <td>-1.035473</td>\n",
              "      <td>-0.147682</td>\n",
              "      <td>-0.434903</td>\n",
              "      <td>0.106672</td>\n",
              "      <td>0.840457</td>\n",
              "      <td>-0.513239</td>\n",
              "      <td>-0.313461</td>\n",
              "      <td>0.944797</td>\n",
              "      <td>-1.202607</td>\n",
              "      <td>-0.591610</td>\n",
              "      <td>-3.042283</td>\n",
              "      <td>-0.171756</td>\n",
              "      <td>0.193171</td>\n",
              "      <td>0.606669</td>\n",
              "      <td>-0.423391</td>\n",
              "      <td>0.095063</td>\n",
              "      <td>0.567516</td>\n",
              "      <td>-0.137320</td>\n",
              "      <td>-0.284825</td>\n",
              "      <td>-0.161542</td>\n",
              "      <td>6.42</td>\n",
              "      <td>0.0</td>\n",
              "    </tr>\n",
              "    <tr>\n",
              "      <th>94282</th>\n",
              "      <td>64814.0</td>\n",
              "      <td>-0.821480</td>\n",
              "      <td>1.148243</td>\n",
              "      <td>1.641268</td>\n",
              "      <td>2.214619</td>\n",
              "      <td>0.379240</td>\n",
              "      <td>0.084930</td>\n",
              "      <td>0.703286</td>\n",
              "      <td>0.026994</td>\n",
              "      <td>-1.238617</td>\n",
              "      <td>0.597985</td>\n",
              "      <td>-0.482550</td>\n",
              "      <td>-0.687028</td>\n",
              "      <td>-0.643360</td>\n",
              "      <td>0.365526</td>\n",
              "      <td>1.001141</td>\n",
              "      <td>0.057233</td>\n",
              "      <td>-0.066984</td>\n",
              "      <td>-0.577419</td>\n",
              "      <td>-0.434576</td>\n",
              "      <td>-0.121994</td>\n",
              "      <td>-0.047947</td>\n",
              "      <td>-0.277795</td>\n",
              "      <td>0.070772</td>\n",
              "      <td>0.027393</td>\n",
              "      <td>-0.469333</td>\n",
              "      <td>-0.153918</td>\n",
              "      <td>-0.149963</td>\n",
              "      <td>0.198673</td>\n",
              "      <td>37.00</td>\n",
              "      <td>0.0</td>\n",
              "    </tr>\n",
              "  </tbody>\n",
              "</table>\n",
              "</div>"
            ],
            "text/plain": [
              "           Time        V1        V2  ...       V28  Amount  Class\n",
              "77008   56841.0  1.137066  0.198191  ...  0.022775   19.90    0.0\n",
              "72778   54854.0  1.074413 -0.218444  ... -0.002091    1.69    0.0\n",
              "153549  99410.0 -1.990375  1.993107  ...  0.398057    0.97    0.0\n",
              "84904   60512.0 -1.070322  1.218168  ... -0.161542    6.42    0.0\n",
              "94282   64814.0 -0.821480  1.148243  ...  0.198673   37.00    0.0\n",
              "\n",
              "[5 rows x 31 columns]"
            ]
          },
          "metadata": {
            "tags": []
          },
          "execution_count": 7
        }
      ]
    },
    {
      "cell_type": "code",
      "metadata": {
        "colab": {
          "base_uri": "https://localhost:8080/"
        },
        "id": "JxhYINARxB-m",
        "outputId": "2aea64e3-04fa-42d8-b2a5-8eb682981f87"
      },
      "source": [
        "#Identifying any NAN value in dataset\r\n",
        "data.isnull().sum(axis=0)"
      ],
      "execution_count": 3,
      "outputs": [
        {
          "output_type": "execute_result",
          "data": {
            "text/plain": [
              "Time      0\n",
              "V1        0\n",
              "V2        0\n",
              "V3        0\n",
              "V4        0\n",
              "V5        0\n",
              "V6        0\n",
              "V7        0\n",
              "V8        0\n",
              "V9        0\n",
              "V10       0\n",
              "V11       0\n",
              "V12       0\n",
              "V13       0\n",
              "V14       0\n",
              "V15       0\n",
              "V16       0\n",
              "V17       0\n",
              "V18       0\n",
              "V19       0\n",
              "V20       0\n",
              "V21       0\n",
              "V22       1\n",
              "V23       1\n",
              "V24       1\n",
              "V25       1\n",
              "V26       1\n",
              "V27       1\n",
              "V28       1\n",
              "Amount    1\n",
              "Class     1\n",
              "dtype: int64"
            ]
          },
          "metadata": {
            "tags": []
          },
          "execution_count": 3
        }
      ]
    },
    {
      "cell_type": "code",
      "metadata": {
        "colab": {
          "base_uri": "https://localhost:8080/"
        },
        "id": "Q9WVoWBAAyub",
        "outputId": "660ec4ad-7981-4774-ca83-2ddb287a13f4"
      },
      "source": [
        "#Replacing NAN values with required values\r\n",
        "data['Class']=data['Class'].fillna(0)\r\n",
        "items=data.columns\r\n",
        "for item in items:\r\n",
        "  if item!='Class':\r\n",
        "    data[item]=data[item].fillna(data[item].mean())\r\n",
        "\r\n",
        "  \r\n",
        "\r\n",
        "data.isnull().sum(axis=0)"
      ],
      "execution_count": 18,
      "outputs": [
        {
          "output_type": "execute_result",
          "data": {
            "text/plain": [
              "Time      0\n",
              "V1        0\n",
              "V2        0\n",
              "V3        0\n",
              "V4        0\n",
              "V5        0\n",
              "V6        0\n",
              "V7        0\n",
              "V8        0\n",
              "V9        0\n",
              "V10       0\n",
              "V11       0\n",
              "V12       0\n",
              "V13       0\n",
              "V14       0\n",
              "V15       0\n",
              "V16       0\n",
              "V17       0\n",
              "V18       0\n",
              "V19       0\n",
              "V20       0\n",
              "V21       0\n",
              "V22       0\n",
              "V23       0\n",
              "V24       0\n",
              "V25       0\n",
              "V26       0\n",
              "V27       0\n",
              "V28       0\n",
              "Amount    0\n",
              "Class     0\n",
              "dtype: int64"
            ]
          },
          "metadata": {
            "tags": []
          },
          "execution_count": 18
        }
      ]
    },
    {
      "cell_type": "code",
      "metadata": {
        "colab": {
          "base_uri": "https://localhost:8080/"
        },
        "id": "iWIrOo7HxoOH",
        "outputId": "d35e4f53-b316-46d4-ee24-92d3872ba0e2"
      },
      "source": [
        "#Describing the data\r\n",
        "print(\"Shape of the Data:\", data.shape)\r\n",
        "print(\"Description of the data:\")\r\n",
        "print(data.describe())"
      ],
      "execution_count": 19,
      "outputs": [
        {
          "output_type": "stream",
          "text": [
            "Shape of the Data: (156612, 31)\n",
            "Description of the data:\n",
            "                Time             V1  ...         Amount          Class\n",
            "count  156612.000000  156612.000000  ...  156612.000000  156612.000000\n",
            "mean    56114.721286      -0.226386  ...      88.193486       0.002235\n",
            "std     23396.766143       1.845422  ...     246.282347       0.047221\n",
            "min         0.000000     -56.407510  ...       0.000000       0.000000\n",
            "25%     39715.750000      -1.015986  ...       5.850000       0.000000\n",
            "50%     57468.500000      -0.252679  ...      22.060000       0.000000\n",
            "75%     74684.000000       1.167918  ...      78.000000       0.000000\n",
            "max    108499.000000       2.439207  ...   19656.530000       1.000000\n",
            "\n",
            "[8 rows x 31 columns]\n"
          ],
          "name": "stdout"
        }
      ]
    },
    {
      "cell_type": "code",
      "metadata": {
        "colab": {
          "base_uri": "https://localhost:8080/"
        },
        "id": "0UzNUcSBzLLw",
        "outputId": "3cca947f-4375-48ad-acea-20b293f07850"
      },
      "source": [
        "#Determine the number of fraud cases\r\n",
        "fraud=data[data['Class']==1]\r\n",
        "valid=data[data['Class']==0]\r\n",
        "OutlierFraction=len(fraud)/float(len(valid))\r\n",
        "print(\"Number of fraud cases as compared to valid cases:\", OutlierFraction)\r\n",
        "print('Fraud Cases: {}'.format(len(fraud)))\r\n",
        "print('Valid Cases: {}'.format(len(valid)))"
      ],
      "execution_count": 20,
      "outputs": [
        {
          "output_type": "stream",
          "text": [
            "Number of fraud cases as compared to valid cases: 0.002239827981211043\n",
            "Fraud Cases: 350\n",
            "Valid Cases: 156262\n"
          ],
          "name": "stdout"
        }
      ]
    },
    {
      "cell_type": "code",
      "metadata": {
        "colab": {
          "base_uri": "https://localhost:8080/"
        },
        "id": "9HytJowT54hI",
        "outputId": "fe4a0e20-0045-472c-9a39-52852e03786e"
      },
      "source": [
        "#Details of Fraudulent transaction\r\n",
        "print(\"Amount details of Fraudulent Transaction:\")\r\n",
        "fraud.Amount.describe()"
      ],
      "execution_count": 21,
      "outputs": [
        {
          "output_type": "stream",
          "text": [
            "Amount details of Fraudulent Transaction:\n"
          ],
          "name": "stdout"
        },
        {
          "output_type": "execute_result",
          "data": {
            "text/plain": [
              "count     350.000000\n",
              "mean      111.344486\n",
              "std       228.490673\n",
              "min         0.000000\n",
              "25%         1.000000\n",
              "50%         9.905000\n",
              "75%       101.500000\n",
              "max      1809.680000\n",
              "Name: Amount, dtype: float64"
            ]
          },
          "metadata": {
            "tags": []
          },
          "execution_count": 21
        }
      ]
    },
    {
      "cell_type": "code",
      "metadata": {
        "colab": {
          "base_uri": "https://localhost:8080/"
        },
        "id": "JrllKbV86P8t",
        "outputId": "ce9737cb-5ae8-4b8e-b9f9-6ef74e49f49b"
      },
      "source": [
        "#Details of Valid Transaction\r\n",
        "print(\"Amount details of Valid Transaction:\")\r\n",
        "valid.Amount.describe()"
      ],
      "execution_count": 22,
      "outputs": [
        {
          "output_type": "stream",
          "text": [
            "Amount details of Valid Transaction:\n"
          ],
          "name": "stdout"
        },
        {
          "output_type": "execute_result",
          "data": {
            "text/plain": [
              "count    156262.000000\n",
              "mean         88.141632\n",
              "std         246.318991\n",
              "min           0.000000\n",
              "25%           5.900000\n",
              "50%          22.080000\n",
              "75%          77.980000\n",
              "max       19656.530000\n",
              "Name: Amount, dtype: float64"
            ]
          },
          "metadata": {
            "tags": []
          },
          "execution_count": 22
        }
      ]
    },
    {
      "cell_type": "code",
      "metadata": {
        "colab": {
          "base_uri": "https://localhost:8080/",
          "height": 570
        },
        "id": "Es-stM3Y6oJ2",
        "outputId": "01861e0c-161d-45e4-f02a-9a8d31eb9126"
      },
      "source": [
        "#Correlation matrix for given dataset\r\n",
        "corrmat=data.corr()\r\n",
        "fig=plt.figure(figsize=(12,9))\r\n",
        "sns.heatmap(corrmat,vmax=0.8,square=True)\r\n",
        "plt.show()"
      ],
      "execution_count": 23,
      "outputs": [
        {
          "output_type": "display_data",
          "data": {
            "image/png": "[encoded data removed]",
            "text/plain": [
              "<Figure size 864x648 with 2 Axes>"
            ]
          },
          "metadata": {
            "tags": [],
            "needs_background": "light"
          }
        }
      ]
    },
    {
      "cell_type": "code",
      "metadata": {
        "colab": {
          "base_uri": "https://localhost:8080/"
        },
        "id": "w8CZ30fc7gIQ",
        "outputId": "f5eea510-386f-420a-f1cf-5e954ebe6791"
      },
      "source": [
        "#Creating X and y labels using the dataset\r\n",
        "X=data.drop(['Class'],axis=1)\r\n",
        "Y=data['Class']\r\n",
        "print(\"Shape of X:\", X.shape)\r\n",
        "print(\"Shape of Y:\" , Y.shape)\r\n",
        "\r\n",
        "xData=X.values\r\n",
        "yData=Y.values"
      ],
      "execution_count": 24,
      "outputs": [
        {
          "output_type": "stream",
          "text": [
            "Shape of X: (156612, 30)\n",
            "Shape of Y: (156612,)\n"
          ],
          "name": "stdout"
        }
      ]
    },
    {
      "cell_type": "code",
      "metadata": {
        "colab": {
          "base_uri": "https://localhost:8080/"
        },
        "id": "RfrH8qSB8Wsh",
        "outputId": "23d61b99-f198-482c-e3c4-07e66585b950"
      },
      "source": [
        "#Using Skicit-learn to split data into training and testing data\r\n",
        "from sklearn.model_selection import train_test_split\r\n",
        "\r\n",
        "#Spliting the data into training and testing data\r\n",
        "xTrain,xTest,yTrain,yTest=train_test_split(xData,yData,test_size=0.2,random_state=42)\r\n",
        "\r\n",
        "print(\"Shape of Training Data:\",xTrain.shape)\r\n",
        "print(\"Shape of Testing Data:\",xTest.shape)"
      ],
      "execution_count": 25,
      "outputs": [
        {
          "output_type": "stream",
          "text": [
            "Shape of Training Data: (125289, 30)\n",
            "Shape of Testing Data: (31323, 30)\n"
          ],
          "name": "stdout"
        }
      ]
    },
    {
      "cell_type": "code",
      "metadata": {
        "colab": {
          "base_uri": "https://localhost:8080/"
        },
        "id": "Gz00gvIh_Sst",
        "outputId": "ed297e73-a52c-4f89-a067-71c9e0a9d84c"
      },
      "source": [
        "#Building a Random Forest Classifier\r\n",
        "from sklearn.ensemble import RandomForestClassifier\r\n",
        "#Random forest model creation\r\n",
        "rfc=RandomForestClassifier()\r\n",
        "rfc.fit(xTrain,yTrain)"
      ],
      "execution_count": 26,
      "outputs": [
        {
          "output_type": "execute_result",
          "data": {
            "text/plain": [
              "RandomForestClassifier(bootstrap=True, ccp_alpha=0.0, class_weight=None,\n",
              "                       criterion='gini', max_depth=None, max_features='auto',\n",
              "                       max_leaf_nodes=None, max_samples=None,\n",
              "                       min_impurity_decrease=0.0, min_impurity_split=None,\n",
              "                       min_samples_leaf=1, min_samples_split=2,\n",
              "                       min_weight_fraction_leaf=0.0, n_estimators=100,\n",
              "                       n_jobs=None, oob_score=False, random_state=None,\n",
              "                       verbose=0, warm_start=False)"
            ]
          },
          "metadata": {
            "tags": []
          },
          "execution_count": 26
        }
      ]
    },
    {
      "cell_type": "code",
      "metadata": {
        "id": "yuZ0GINzAZNB"
      },
      "source": [
        "#Predicting on Test set using above trained models\r\n",
        "yPred=rfc.predict(xTest)"
      ],
      "execution_count": 27,
      "outputs": []
    },
    {
      "cell_type": "code",
      "metadata": {
        "colab": {
          "base_uri": "https://localhost:8080/"
        },
        "id": "TAQu-NWBEdCd",
        "outputId": "76cb34ba-c5dc-400c-a740-11c634b7002e"
      },
      "source": [
        "#Evaluating the Random Forest Classifier\r\n",
        "from sklearn.metrics import classification_report,accuracy_score\r\n",
        "from sklearn.metrics import precision_score,recall_score\r\n",
        "from sklearn.metrics import f1_score,matthews_corrcoef\r\n",
        "from sklearn.metrics import confusion_matrix\r\n",
        "\r\n",
        "n_outliers = len(fraud) \r\n",
        "n_errors = (yPred != yTest).sum() \r\n",
        "print(\"The model used is Random Forest classifier\") \r\n",
        "  \r\n",
        "acc = accuracy_score(yTest, yPred) \r\n",
        "print(\"The accuracy is {}\".format(acc)) \r\n",
        "  \r\n",
        "prec = precision_score(yTest, yPred) \r\n",
        "print(\"The precision is {}\".format(prec)) \r\n",
        "  \r\n",
        "rec = recall_score(yTest, yPred) \r\n",
        "print(\"The recall is {}\".format(rec)) \r\n",
        "  \r\n",
        "f1 = f1_score(yTest, yPred) \r\n",
        "print(\"The F1-Score is {}\".format(f1)) \r\n",
        "  \r\n",
        "MCC = matthews_corrcoef(yTest, yPred) \r\n",
        "print(\"The Matthews correlation coefficient is{}\".format(MCC)) "
      ],
      "execution_count": 29,
      "outputs": [
        {
          "output_type": "stream",
          "text": [
            "The model used is Random Forest classifier\n",
            "The accuracy is 0.9996168949334355\n",
            "The precision is 0.9137931034482759\n",
            "The recall is 0.8833333333333333\n",
            "The F1-Score is 0.8983050847457628\n",
            "The Matthews correlation coefficient is0.8982427433705649\n"
          ],
          "name": "stdout"
        }
      ]
    }
  ]
}