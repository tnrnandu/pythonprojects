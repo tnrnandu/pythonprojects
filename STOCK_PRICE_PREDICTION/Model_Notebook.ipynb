{
  "nbformat": 4,
  "nbformat_minor": 0,
  "metadata": {
    "colab": {
      "name": "Model Notebook.ipynb",
      "provenance": []
    },
    "kernelspec": {
      "name": "python3",
      "display_name": "Python 3"
    },
    "accelerator": "GPU"
  },
  "cells": [
    {
      "cell_type": "code",
      "metadata": {
        "colab": {
          "base_uri": "https://localhost:8080/"
        },
        "id": "3RNGyRx-Z97C",
        "outputId": "de79185b-9d98-4fda-ad27-72f800578bb1"
      },
      "source": [
        "cd /content/drive/MyDrive/Stock Price Prediction/Google Stock Price Prediction"
      ],
      "execution_count": 1,
      "outputs": [
        {
          "output_type": "stream",
          "text": [
            "/content/drive/MyDrive/Stock Price Prediction/Google Stock Price Prediction\n"
          ],
          "name": "stdout"
        }
      ]
    },
    {
      "cell_type": "markdown",
      "metadata": {
        "id": "yN8N3DWHwVpf"
      },
      "source": [
        "# Importing Necessary Libraries"
      ]
    },
    {
      "cell_type": "code",
      "metadata": {
        "id": "DIhIsJNcbzyp"
      },
      "source": [
        "import numpy as np\r\n",
        "import pandas as pd\r\n",
        "import matplotlib.pyplot as plt\r\n",
        "from keras.models import Sequential\r\n",
        "from keras.layers import Dense,LSTM,Bidirectional,Input,Dropout"
      ],
      "execution_count": 2,
      "outputs": []
    },
    {
      "cell_type": "markdown",
      "metadata": {
        "id": "7r2M6EwCwckk"
      },
      "source": [
        "# Reading the Dataset"
      ]
    },
    {
      "cell_type": "code",
      "metadata": {
        "id": "LD3oGLgYdlc6"
      },
      "source": [
        "data=pd.read_csv('google_dataset.csv')"
      ],
      "execution_count": 3,
      "outputs": []
    },
    {
      "cell_type": "code",
      "metadata": {
        "colab": {
          "base_uri": "https://localhost:8080/",
          "height": 195
        },
        "id": "FcA2lTdadrqw",
        "outputId": "7dac10f7-2564-41c7-8c32-a1adda31f09d"
      },
      "source": [
        "data.head()"
      ],
      "execution_count": 4,
      "outputs": [
        {
          "output_type": "execute_result",
          "data": {
            "text/html": [
              "<div>\n",
              "<style scoped>\n",
              "    .dataframe tbody tr th:only-of-type {\n",
              "        vertical-align: middle;\n",
              "    }\n",
              "\n",
              "    .dataframe tbody tr th {\n",
              "        vertical-align: top;\n",
              "    }\n",
              "\n",
              "    .dataframe thead th {\n",
              "        text-align: right;\n",
              "    }\n",
              "</style>\n",
              "<table border=\"1\" class=\"dataframe\">\n",
              "  <thead>\n",
              "    <tr style=\"text-align: right;\">\n",
              "      <th></th>\n",
              "      <th></th>\n",
              "      <th>close</th>\n",
              "      <th>high</th>\n",
              "      <th>low</th>\n",
              "      <th>open</th>\n",
              "      <th>volume</th>\n",
              "      <th>adjClose</th>\n",
              "      <th>adjHigh</th>\n",
              "      <th>adjLow</th>\n",
              "      <th>adjOpen</th>\n",
              "      <th>adjVolume</th>\n",
              "      <th>divCash</th>\n",
              "      <th>splitFactor</th>\n",
              "    </tr>\n",
              "  </thead>\n",
              "  <tbody>\n",
              "    <tr>\n",
              "      <th rowspan=\"5\" valign=\"top\">GOOG</th>\n",
              "      <th>2016-01-11 00:00:00+00:00</th>\n",
              "      <td>716.03</td>\n",
              "      <td>718.855</td>\n",
              "      <td>703.5400</td>\n",
              "      <td>716.61</td>\n",
              "      <td>2090621</td>\n",
              "      <td>716.03</td>\n",
              "      <td>718.855</td>\n",
              "      <td>703.5400</td>\n",
              "      <td>716.61</td>\n",
              "      <td>2090621</td>\n",
              "      <td>0.0</td>\n",
              "      <td>1.0</td>\n",
              "    </tr>\n",
              "    <tr>\n",
              "      <th>2016-01-12 00:00:00+00:00</th>\n",
              "      <td>726.07</td>\n",
              "      <td>728.750</td>\n",
              "      <td>717.3165</td>\n",
              "      <td>721.68</td>\n",
              "      <td>2024509</td>\n",
              "      <td>726.07</td>\n",
              "      <td>728.750</td>\n",
              "      <td>717.3165</td>\n",
              "      <td>721.68</td>\n",
              "      <td>2024509</td>\n",
              "      <td>0.0</td>\n",
              "      <td>1.0</td>\n",
              "    </tr>\n",
              "    <tr>\n",
              "      <th>2016-01-13 00:00:00+00:00</th>\n",
              "      <td>700.56</td>\n",
              "      <td>734.740</td>\n",
              "      <td>698.6100</td>\n",
              "      <td>730.85</td>\n",
              "      <td>2501730</td>\n",
              "      <td>700.56</td>\n",
              "      <td>734.740</td>\n",
              "      <td>698.6100</td>\n",
              "      <td>730.85</td>\n",
              "      <td>2501730</td>\n",
              "      <td>0.0</td>\n",
              "      <td>1.0</td>\n",
              "    </tr>\n",
              "    <tr>\n",
              "      <th>2016-01-14 00:00:00+00:00</th>\n",
              "      <td>714.72</td>\n",
              "      <td>721.925</td>\n",
              "      <td>689.1000</td>\n",
              "      <td>705.38</td>\n",
              "      <td>2225768</td>\n",
              "      <td>714.72</td>\n",
              "      <td>721.925</td>\n",
              "      <td>689.1000</td>\n",
              "      <td>705.38</td>\n",
              "      <td>2225768</td>\n",
              "      <td>0.0</td>\n",
              "      <td>1.0</td>\n",
              "    </tr>\n",
              "    <tr>\n",
              "      <th>2016-01-15 00:00:00+00:00</th>\n",
              "      <td>694.45</td>\n",
              "      <td>706.740</td>\n",
              "      <td>685.3700</td>\n",
              "      <td>692.29</td>\n",
              "      <td>3608109</td>\n",
              "      <td>694.45</td>\n",
              "      <td>706.740</td>\n",
              "      <td>685.3700</td>\n",
              "      <td>692.29</td>\n",
              "      <td>3608109</td>\n",
              "      <td>0.0</td>\n",
              "      <td>1.0</td>\n",
              "    </tr>\n",
              "  </tbody>\n",
              "</table>\n",
              "</div>"
            ],
            "text/plain": [
              "                                 close     high  ...  divCash  splitFactor\n",
              "GOOG 2016-01-11 00:00:00+00:00  716.03  718.855  ...      0.0          1.0\n",
              "     2016-01-12 00:00:00+00:00  726.07  728.750  ...      0.0          1.0\n",
              "     2016-01-13 00:00:00+00:00  700.56  734.740  ...      0.0          1.0\n",
              "     2016-01-14 00:00:00+00:00  714.72  721.925  ...      0.0          1.0\n",
              "     2016-01-15 00:00:00+00:00  694.45  706.740  ...      0.0          1.0\n",
              "\n",
              "[5 rows x 12 columns]"
            ]
          },
          "metadata": {
            "tags": []
          },
          "execution_count": 4
        }
      ]
    },
    {
      "cell_type": "markdown",
      "metadata": {
        "id": "8ATB9RZHwgFd"
      },
      "source": [
        "# Extracting the Closing Price"
      ]
    },
    {
      "cell_type": "code",
      "metadata": {
        "id": "QNXfLYJxdvOE"
      },
      "source": [
        "close_price=data['close']"
      ],
      "execution_count": 5,
      "outputs": []
    },
    {
      "cell_type": "code",
      "metadata": {
        "colab": {
          "base_uri": "https://localhost:8080/"
        },
        "id": "tEEIdniagHP_",
        "outputId": "e435fc01-0aea-4c56-9125-8ea449488953"
      },
      "source": [
        "close_price"
      ],
      "execution_count": 6,
      "outputs": [
        {
          "output_type": "execute_result",
          "data": {
            "text/plain": [
              "GOOG  2016-01-11 00:00:00+00:00     716.03\n",
              "      2016-01-12 00:00:00+00:00     726.07\n",
              "      2016-01-13 00:00:00+00:00     700.56\n",
              "      2016-01-14 00:00:00+00:00     714.72\n",
              "      2016-01-15 00:00:00+00:00     694.45\n",
              "                                    ...   \n",
              "      2020-12-30 00:00:00+00:00    1739.52\n",
              "      2020-12-31 00:00:00+00:00    1751.88\n",
              "      2021-01-04 00:00:00+00:00    1728.24\n",
              "      2021-01-05 00:00:00+00:00    1740.92\n",
              "      2021-01-06 00:00:00+00:00    1735.29\n",
              "Name: close, Length: 1257, dtype: float64"
            ]
          },
          "metadata": {
            "tags": []
          },
          "execution_count": 6
        }
      ]
    },
    {
      "cell_type": "code",
      "metadata": {
        "id": "8OIKqgPogIRm"
      },
      "source": [
        "close_price=np.array(close_price)"
      ],
      "execution_count": 7,
      "outputs": []
    },
    {
      "cell_type": "code",
      "metadata": {
        "colab": {
          "base_uri": "https://localhost:8080/"
        },
        "id": "1GMeFBaxgOjp",
        "outputId": "1d7645e8-405f-4f61-9bca-3b776eee21ee"
      },
      "source": [
        "close_price"
      ],
      "execution_count": 8,
      "outputs": [
        {
          "output_type": "execute_result",
          "data": {
            "text/plain": [
              "array([ 716.03,  726.07,  700.56, ..., 1728.24, 1740.92, 1735.29])"
            ]
          },
          "metadata": {
            "tags": []
          },
          "execution_count": 8
        }
      ]
    },
    {
      "cell_type": "code",
      "metadata": {
        "colab": {
          "base_uri": "https://localhost:8080/"
        },
        "id": "XwXHouUjgb8H",
        "outputId": "053d6b34-b0f9-40f6-97fe-652b3d4db4f3"
      },
      "source": [
        "close_price.shape"
      ],
      "execution_count": 9,
      "outputs": [
        {
          "output_type": "execute_result",
          "data": {
            "text/plain": [
              "(1257,)"
            ]
          },
          "metadata": {
            "tags": []
          },
          "execution_count": 9
        }
      ]
    },
    {
      "cell_type": "markdown",
      "metadata": {
        "id": "s6n0Wt90wnG4"
      },
      "source": [
        "# Plotting the closing price"
      ]
    },
    {
      "cell_type": "code",
      "metadata": {
        "colab": {
          "base_uri": "https://localhost:8080/",
          "height": 282
        },
        "id": "S3aFGZ9dlhae",
        "outputId": "3c974b33-5efa-499b-b78f-e85c2529a8df"
      },
      "source": [
        "plt.plot(close_price)"
      ],
      "execution_count": 10,
      "outputs": [
        {
          "output_type": "execute_result",
          "data": {
            "text/plain": [
              "[<matplotlib.lines.Line2D at 0x7f24993f0a90>]"
            ]
          },
          "metadata": {
            "tags": []
          },
          "execution_count": 10
        },
        {
          "output_type": "display_data",
          "data": {
            "image/png": "[encoded data removed]",
            "text/plain": [
              "<Figure size 432x288 with 1 Axes>"
            ]
          },
          "metadata": {
            "tags": [],
            "needs_background": "light"
          }
        }
      ]
    },
    {
      "cell_type": "markdown",
      "metadata": {
        "id": "Ch16lR8Cwsir"
      },
      "source": [
        "# Applying MinMax Scaler"
      ]
    },
    {
      "cell_type": "code",
      "metadata": {
        "id": "MXwiXeK3IXfh"
      },
      "source": [
        "from sklearn.preprocessing import MinMaxScaler"
      ],
      "execution_count": 11,
      "outputs": []
    },
    {
      "cell_type": "code",
      "metadata": {
        "id": "k-KDDSYjIvwy"
      },
      "source": [
        "minmax=MinMaxScaler()"
      ],
      "execution_count": 12,
      "outputs": []
    },
    {
      "cell_type": "code",
      "metadata": {
        "id": "jlAKTYdeI0GA"
      },
      "source": [
        "close_price=minmax.fit_transform(close_price.reshape(-1,1))"
      ],
      "execution_count": 13,
      "outputs": []
    },
    {
      "cell_type": "code",
      "metadata": {
        "colab": {
          "base_uri": "https://localhost:8080/"
        },
        "id": "wtFy1qPCI_rD",
        "outputId": "a9c01f18-9a37-4730-f059-5a5fe1161d96"
      },
      "source": [
        "minmax.data_min_"
      ],
      "execution_count": 14,
      "outputs": [
        {
          "output_type": "execute_result",
          "data": {
            "text/plain": [
              "array([668.26])"
            ]
          },
          "metadata": {
            "tags": []
          },
          "execution_count": 14
        }
      ]
    },
    {
      "cell_type": "code",
      "metadata": {
        "colab": {
          "base_uri": "https://localhost:8080/"
        },
        "id": "4kL-6IYdJdhu",
        "outputId": "8f40f5ff-f147-46d4-dd96-8ade174a5217"
      },
      "source": [
        "minmax.data_max_"
      ],
      "execution_count": 15,
      "outputs": [
        {
          "output_type": "execute_result",
          "data": {
            "text/plain": [
              "array([1827.99])"
            ]
          },
          "metadata": {
            "tags": []
          },
          "execution_count": 15
        }
      ]
    },
    {
      "cell_type": "markdown",
      "metadata": {
        "id": "Pak8Sr7twwyC"
      },
      "source": [
        "# Converting the data into time stamps of 100 days"
      ]
    },
    {
      "cell_type": "code",
      "metadata": {
        "id": "BUYOL7E0gPOl"
      },
      "source": [
        "sample=[]\r\n",
        "data_stamps=[]\r\n",
        "price=[]\r\n",
        "\r\n",
        "\r\n",
        "for i in range(1157):\r\n",
        "  sample=[]\r\n",
        "  for j in range(i,100+i):\r\n",
        "    sample.append(close_price[j])\r\n",
        "  price.append(close_price[100+i])\r\n",
        "  data_stamps.append(sample)"
      ],
      "execution_count": 16,
      "outputs": []
    },
    {
      "cell_type": "code",
      "metadata": {
        "id": "4abBKl7pkUu7"
      },
      "source": [
        "data_stamps=np.array(data_stamps)"
      ],
      "execution_count": 17,
      "outputs": []
    },
    {
      "cell_type": "code",
      "metadata": {
        "colab": {
          "base_uri": "https://localhost:8080/"
        },
        "id": "RWXctcFumoPX",
        "outputId": "0a7c7de2-dbb1-4d71-cef0-4b8b9269d55c"
      },
      "source": [
        "data_stamps.shape"
      ],
      "execution_count": 18,
      "outputs": [
        {
          "output_type": "execute_result",
          "data": {
            "text/plain": [
              "(1157, 100, 1)"
            ]
          },
          "metadata": {
            "tags": []
          },
          "execution_count": 18
        }
      ]
    },
    {
      "cell_type": "code",
      "metadata": {
        "id": "1rII_5zSsoR5"
      },
      "source": [
        "price=np.array(price)"
      ],
      "execution_count": 19,
      "outputs": []
    },
    {
      "cell_type": "code",
      "metadata": {
        "colab": {
          "base_uri": "https://localhost:8080/"
        },
        "id": "MzosglwIssdE",
        "outputId": "a13b4eff-0dc8-4041-8c02-43d4b68d2fdd"
      },
      "source": [
        "price.shape"
      ],
      "execution_count": 20,
      "outputs": [
        {
          "output_type": "execute_result",
          "data": {
            "text/plain": [
              "(1157, 1)"
            ]
          },
          "metadata": {
            "tags": []
          },
          "execution_count": 20
        }
      ]
    },
    {
      "cell_type": "markdown",
      "metadata": {
        "id": "V3LLGZViw4EW"
      },
      "source": [
        "# Splitting the datastamps into training and testing samples"
      ]
    },
    {
      "cell_type": "code",
      "metadata": {
        "id": "o2JoZMuSpUBD"
      },
      "source": [
        "x_train=data_stamps[:int(0.7*len(list(data_stamps)))]\r\n",
        "y_train=price[:int(0.7*len(list(data_stamps)))]\r\n",
        "\r\n",
        "x_test=data_stamps[int(0.7*len(list(data_stamps))):]\r\n",
        "y_test=price[int(0.7*len(list(data_stamps))):]\r\n"
      ],
      "execution_count": 22,
      "outputs": []
    },
    {
      "cell_type": "markdown",
      "metadata": {
        "id": "npxZ_Yiew-0n"
      },
      "source": [
        "# Defining a nueral network"
      ]
    },
    {
      "cell_type": "code",
      "metadata": {
        "id": "Se7CghEiosgv"
      },
      "source": [
        "model=Sequential()\r\n",
        "model.add(Bidirectional(LSTM(100,return_sequences=True),input_shape=(100,1)))\r\n",
        "model.add(Bidirectional(LSTM(100)))\r\n",
        "model.add(Dense(64,activation='relu'))\r\n",
        "model.add(Dense(1,activation='linear'))\r\n"
      ],
      "execution_count": 23,
      "outputs": []
    },
    {
      "cell_type": "code",
      "metadata": {
        "colab": {
          "base_uri": "https://localhost:8080/"
        },
        "id": "8bSxERhPqbuO",
        "outputId": "7fade20c-e167-4beb-b73e-acbab0b81de2"
      },
      "source": [
        "model.summary()"
      ],
      "execution_count": 24,
      "outputs": [
        {
          "output_type": "stream",
          "text": [
            "Model: \"sequential\"\n",
            "_________________________________________________________________\n",
            "Layer (type)                 Output Shape              Param #   \n",
            "=================================================================\n",
            "bidirectional (Bidirectional (None, 100, 200)          81600     \n",
            "_________________________________________________________________\n",
            "bidirectional_1 (Bidirection (None, 200)               240800    \n",
            "_________________________________________________________________\n",
            "dense (Dense)                (None, 64)                12864     \n",
            "_________________________________________________________________\n",
            "dense_1 (Dense)              (None, 1)                 65        \n",
            "=================================================================\n",
            "Total params: 335,329\n",
            "Trainable params: 335,329\n",
            "Non-trainable params: 0\n",
            "_________________________________________________________________\n"
          ],
          "name": "stdout"
        }
      ]
    },
    {
      "cell_type": "code",
      "metadata": {
        "id": "opq6AdbPoqvk"
      },
      "source": [
        "model.compile(optimizer='Adam',loss='mse')"
      ],
      "execution_count": 25,
      "outputs": []
    },
    {
      "cell_type": "markdown",
      "metadata": {
        "id": "ffEAVYk2xEC9"
      },
      "source": [
        "# Training a model"
      ]
    },
    {
      "cell_type": "code",
      "metadata": {
        "colab": {
          "base_uri": "https://localhost:8080/"
        },
        "id": "CpolnA2kr5EH",
        "outputId": "b87abedc-c9af-4362-9338-855c63d51852"
      },
      "source": [
        "model.fit(x=x_train,y=y_train,epochs=50)"
      ],
      "execution_count": 26,
      "outputs": [
        {
          "output_type": "stream",
          "text": [
            "Epoch 1/50\n",
            "26/26 [==============================] - 12s 25ms/step - loss: 0.0250\n",
            "Epoch 2/50\n",
            "26/26 [==============================] - 1s 24ms/step - loss: 0.0016\n",
            "Epoch 3/50\n",
            "26/26 [==============================] - 1s 23ms/step - loss: 9.6277e-04\n",
            "Epoch 4/50\n",
            "26/26 [==============================] - 1s 24ms/step - loss: 7.1448e-04\n",
            "Epoch 5/50\n",
            "26/26 [==============================] - 1s 23ms/step - loss: 5.2108e-04\n",
            "Epoch 6/50\n",
            "26/26 [==============================] - 1s 23ms/step - loss: 6.0279e-04\n",
            "Epoch 7/50\n",
            "26/26 [==============================] - 1s 24ms/step - loss: 4.7475e-04\n",
            "Epoch 8/50\n",
            "26/26 [==============================] - 1s 23ms/step - loss: 6.4347e-04\n",
            "Epoch 9/50\n",
            "26/26 [==============================] - 1s 24ms/step - loss: 5.5657e-04\n",
            "Epoch 10/50\n",
            "26/26 [==============================] - 1s 24ms/step - loss: 5.9857e-04\n",
            "Epoch 11/50\n",
            "26/26 [==============================] - 1s 23ms/step - loss: 4.7923e-04\n",
            "Epoch 12/50\n",
            "26/26 [==============================] - 1s 24ms/step - loss: 4.6964e-04\n",
            "Epoch 13/50\n",
            "26/26 [==============================] - 1s 24ms/step - loss: 4.8566e-04\n",
            "Epoch 14/50\n",
            "26/26 [==============================] - 1s 23ms/step - loss: 4.4481e-04\n",
            "Epoch 15/50\n",
            "26/26 [==============================] - 1s 24ms/step - loss: 4.3463e-04\n",
            "Epoch 16/50\n",
            "26/26 [==============================] - 1s 24ms/step - loss: 5.0256e-04\n",
            "Epoch 17/50\n",
            "26/26 [==============================] - 1s 24ms/step - loss: 4.1896e-04\n",
            "Epoch 18/50\n",
            "26/26 [==============================] - 1s 24ms/step - loss: 3.9699e-04\n",
            "Epoch 19/50\n",
            "26/26 [==============================] - 1s 24ms/step - loss: 5.4902e-04\n",
            "Epoch 20/50\n",
            "26/26 [==============================] - 1s 24ms/step - loss: 3.7809e-04\n",
            "Epoch 21/50\n",
            "26/26 [==============================] - 1s 24ms/step - loss: 3.4450e-04\n",
            "Epoch 22/50\n",
            "26/26 [==============================] - 1s 23ms/step - loss: 3.2939e-04\n",
            "Epoch 23/50\n",
            "26/26 [==============================] - 1s 24ms/step - loss: 3.2381e-04\n",
            "Epoch 24/50\n",
            "26/26 [==============================] - 1s 24ms/step - loss: 4.1783e-04\n",
            "Epoch 25/50\n",
            "26/26 [==============================] - 1s 24ms/step - loss: 4.9106e-04\n",
            "Epoch 26/50\n",
            "26/26 [==============================] - 1s 24ms/step - loss: 4.3352e-04\n",
            "Epoch 27/50\n",
            "26/26 [==============================] - 1s 24ms/step - loss: 3.4535e-04\n",
            "Epoch 28/50\n",
            "26/26 [==============================] - 1s 24ms/step - loss: 3.8489e-04\n",
            "Epoch 29/50\n",
            "26/26 [==============================] - 1s 23ms/step - loss: 3.4440e-04\n",
            "Epoch 30/50\n",
            "26/26 [==============================] - 1s 24ms/step - loss: 2.9788e-04\n",
            "Epoch 31/50\n",
            "26/26 [==============================] - 1s 24ms/step - loss: 3.3874e-04\n",
            "Epoch 32/50\n",
            "26/26 [==============================] - 1s 24ms/step - loss: 3.1048e-04\n",
            "Epoch 33/50\n",
            "26/26 [==============================] - 1s 24ms/step - loss: 2.7900e-04\n",
            "Epoch 34/50\n",
            "26/26 [==============================] - 1s 24ms/step - loss: 3.7123e-04\n",
            "Epoch 35/50\n",
            "26/26 [==============================] - 1s 24ms/step - loss: 3.6820e-04\n",
            "Epoch 36/50\n",
            "26/26 [==============================] - 1s 24ms/step - loss: 2.4626e-04\n",
            "Epoch 37/50\n",
            "26/26 [==============================] - 1s 24ms/step - loss: 2.8197e-04\n",
            "Epoch 38/50\n",
            "26/26 [==============================] - 1s 24ms/step - loss: 2.6126e-04\n",
            "Epoch 39/50\n",
            "26/26 [==============================] - 1s 24ms/step - loss: 2.5234e-04\n",
            "Epoch 40/50\n",
            "26/26 [==============================] - 1s 24ms/step - loss: 3.2373e-04\n",
            "Epoch 41/50\n",
            "26/26 [==============================] - 1s 24ms/step - loss: 2.6939e-04\n",
            "Epoch 42/50\n",
            "26/26 [==============================] - 1s 24ms/step - loss: 3.3586e-04\n",
            "Epoch 43/50\n",
            "26/26 [==============================] - 1s 24ms/step - loss: 3.0846e-04\n",
            "Epoch 44/50\n",
            "26/26 [==============================] - 1s 24ms/step - loss: 2.6801e-04\n",
            "Epoch 45/50\n",
            "26/26 [==============================] - 1s 24ms/step - loss: 2.4328e-04\n",
            "Epoch 46/50\n",
            "26/26 [==============================] - 1s 24ms/step - loss: 2.2027e-04\n",
            "Epoch 47/50\n",
            "26/26 [==============================] - 1s 24ms/step - loss: 2.8362e-04\n",
            "Epoch 48/50\n",
            "26/26 [==============================] - 1s 25ms/step - loss: 2.9308e-04\n",
            "Epoch 49/50\n",
            "26/26 [==============================] - 1s 25ms/step - loss: 2.5322e-04\n",
            "Epoch 50/50\n",
            "26/26 [==============================] - 1s 24ms/step - loss: 2.2908e-04\n"
          ],
          "name": "stdout"
        },
        {
          "output_type": "execute_result",
          "data": {
            "text/plain": [
              "<tensorflow.python.keras.callbacks.History at 0x7f24227a70f0>"
            ]
          },
          "metadata": {
            "tags": []
          },
          "execution_count": 26
        }
      ]
    },
    {
      "cell_type": "code",
      "metadata": {
        "colab": {
          "base_uri": "https://localhost:8080/"
        },
        "id": "mJJERmYvqokX",
        "outputId": "6727394d-c429-498f-e0a1-6842e45aa5d2"
      },
      "source": [
        "model.evaluate(x_test,y_test)"
      ],
      "execution_count": 29,
      "outputs": [
        {
          "output_type": "stream",
          "text": [
            "11/11 [==============================] - 2s 10ms/step - loss: 0.0022\n"
          ],
          "name": "stdout"
        },
        {
          "output_type": "execute_result",
          "data": {
            "text/plain": [
              "0.0022354447282850742"
            ]
          },
          "metadata": {
            "tags": []
          },
          "execution_count": 29
        }
      ]
    },
    {
      "cell_type": "markdown",
      "metadata": {
        "id": "BTIhVTfvxTTX"
      },
      "source": [
        "# Predicting the test data"
      ]
    },
    {
      "cell_type": "code",
      "metadata": {
        "id": "QGgw3vCPqrz9"
      },
      "source": [
        "y_pred=model.predict(x_test)"
      ],
      "execution_count": 30,
      "outputs": []
    },
    {
      "cell_type": "code",
      "metadata": {
        "colab": {
          "base_uri": "https://localhost:8080/"
        },
        "id": "wTvNqk2Sq0hP",
        "outputId": "4008507d-ec34-48f2-c910-ce8683843539"
      },
      "source": [
        "y_pred"
      ],
      "execution_count": 31,
      "outputs": [
        {
          "output_type": "execute_result",
          "data": {
            "text/plain": [
              "array([[0.44269556],\n",
              "       [0.4458698 ],\n",
              "       [0.44679153],\n",
              "       [0.43159446],\n",
              "       [0.4292084 ],\n",
              "       [0.4287522 ],\n",
              "       [0.43104386],\n",
              "       [0.44208878],\n",
              "       [0.44746682],\n",
              "       [0.44233203],\n",
              "       [0.44353345],\n",
              "       [0.45637393],\n",
              "       [0.46194345],\n",
              "       [0.46419853],\n",
              "       [0.4652094 ],\n",
              "       [0.4708404 ],\n",
              "       [0.47948474],\n",
              "       [0.486174  ],\n",
              "       [0.48532528],\n",
              "       [0.48261416],\n",
              "       [0.48188755],\n",
              "       [0.48437282],\n",
              "       [0.48260194],\n",
              "       [0.4834775 ],\n",
              "       [0.47781464],\n",
              "       [0.4865797 ],\n",
              "       [0.4903167 ],\n",
              "       [0.4852075 ],\n",
              "       [0.4790465 ],\n",
              "       [0.46963015],\n",
              "       [0.45262834],\n",
              "       [0.44846416],\n",
              "       [0.4569769 ],\n",
              "       [0.46277052],\n",
              "       [0.45799768],\n",
              "       [0.4597182 ],\n",
              "       [0.46295   ],\n",
              "       [0.4670014 ],\n",
              "       [0.4689768 ],\n",
              "       [0.4798624 ],\n",
              "       [0.4855333 ],\n",
              "       [0.49116486],\n",
              "       [0.4897634 ],\n",
              "       [0.48794875],\n",
              "       [0.4851477 ],\n",
              "       [0.49072912],\n",
              "       [0.4953611 ],\n",
              "       [0.49986205],\n",
              "       [0.51277316],\n",
              "       [0.5080643 ],\n",
              "       [0.5033519 ],\n",
              "       [0.49988085],\n",
              "       [0.50410396],\n",
              "       [0.5147586 ],\n",
              "       [0.5212715 ],\n",
              "       [0.52390474],\n",
              "       [0.531511  ],\n",
              "       [0.5360827 ],\n",
              "       [0.5323282 ],\n",
              "       [0.52903444],\n",
              "       [0.5268583 ],\n",
              "       [0.53214103],\n",
              "       [0.54591405],\n",
              "       [0.5480991 ],\n",
              "       [0.545772  ],\n",
              "       [0.53833205],\n",
              "       [0.5333777 ],\n",
              "       [0.52893364],\n",
              "       [0.5325081 ],\n",
              "       [0.5385319 ],\n",
              "       [0.54212695],\n",
              "       [0.5406045 ],\n",
              "       [0.5330256 ],\n",
              "       [0.53079045],\n",
              "       [0.54067373],\n",
              "       [0.55056024],\n",
              "       [0.56131977],\n",
              "       [0.567898  ],\n",
              "       [0.5708377 ],\n",
              "       [0.57106626],\n",
              "       [0.57244426],\n",
              "       [0.57179636],\n",
              "       [0.5769004 ],\n",
              "       [0.5769778 ],\n",
              "       [0.5755482 ],\n",
              "       [0.5760372 ],\n",
              "       [0.57355946],\n",
              "       [0.57193476],\n",
              "       [0.56911975],\n",
              "       [0.57534975],\n",
              "       [0.575535  ],\n",
              "       [0.5683198 ],\n",
              "       [0.5641935 ],\n",
              "       [0.575584  ],\n",
              "       [0.5797262 ],\n",
              "       [0.5948274 ],\n",
              "       [0.6022888 ],\n",
              "       [0.6089692 ],\n",
              "       [0.61708176],\n",
              "       [0.6238987 ],\n",
              "       [0.63024104],\n",
              "       [0.629002  ],\n",
              "       [0.63098085],\n",
              "       [0.6377484 ],\n",
              "       [0.6539941 ],\n",
              "       [0.664726  ],\n",
              "       [0.6700166 ],\n",
              "       [0.67176086],\n",
              "       [0.6636005 ],\n",
              "       [0.645381  ],\n",
              "       [0.6447639 ],\n",
              "       [0.6500586 ],\n",
              "       [0.65392715],\n",
              "       [0.64751047],\n",
              "       [0.665772  ],\n",
              "       [0.65957016],\n",
              "       [0.6546879 ],\n",
              "       [0.6632327 ],\n",
              "       [0.66920674],\n",
              "       [0.68383735],\n",
              "       [0.6901922 ],\n",
              "       [0.6949139 ],\n",
              "       [0.6936041 ],\n",
              "       [0.6936432 ],\n",
              "       [0.69234765],\n",
              "       [0.6941501 ],\n",
              "       [0.69155824],\n",
              "       [0.6761674 ],\n",
              "       [0.64157444],\n",
              "       [0.6114286 ],\n",
              "       [0.60234094],\n",
              "       [0.5707248 ],\n",
              "       [0.5658808 ],\n",
              "       [0.5882944 ],\n",
              "       [0.5834775 ],\n",
              "       [0.5982844 ],\n",
              "       [0.57707286],\n",
              "       [0.55336666],\n",
              "       [0.5046636 ],\n",
              "       [0.5056454 ],\n",
              "       [0.4840848 ],\n",
              "       [0.43254682],\n",
              "       [0.44638208],\n",
              "       [0.4055994 ],\n",
              "       [0.39591995],\n",
              "       [0.38407317],\n",
              "       [0.38594   ],\n",
              "       [0.37155783],\n",
              "       [0.35634482],\n",
              "       [0.3775105 ],\n",
              "       [0.3798623 ],\n",
              "       [0.40317205],\n",
              "       [0.3965116 ],\n",
              "       [0.40328655],\n",
              "       [0.4125066 ],\n",
              "       [0.39450595],\n",
              "       [0.38736603],\n",
              "       [0.3744926 ],\n",
              "       [0.40205762],\n",
              "       [0.42141518],\n",
              "       [0.4419282 ],\n",
              "       [0.45285928],\n",
              "       [0.4589496 ],\n",
              "       [0.48104265],\n",
              "       [0.49041903],\n",
              "       [0.49384916],\n",
              "       [0.501973  ],\n",
              "       [0.49892282],\n",
              "       [0.47541276],\n",
              "       [0.48089832],\n",
              "       [0.4924105 ],\n",
              "       [0.50204724],\n",
              "       [0.50634366],\n",
              "       [0.49039915],\n",
              "       [0.52490824],\n",
              "       [0.54972154],\n",
              "       [0.54990935],\n",
              "       [0.5484805 ],\n",
              "       [0.55562496],\n",
              "       [0.55704725],\n",
              "       [0.56746703],\n",
              "       [0.57956994],\n",
              "       [0.5915283 ],\n",
              "       [0.5845822 ],\n",
              "       [0.56712997],\n",
              "       [0.5597399 ],\n",
              "       [0.56471723],\n",
              "       [0.5742556 ],\n",
              "       [0.5760333 ],\n",
              "       [0.59077364],\n",
              "       [0.59720904],\n",
              "       [0.6027472 ],\n",
              "       [0.6074546 ],\n",
              "       [0.6092583 ],\n",
              "       [0.60912335],\n",
              "       [0.61384827],\n",
              "       [0.6179945 ],\n",
              "       [0.6234145 ],\n",
              "       [0.62491304],\n",
              "       [0.61470497],\n",
              "       [0.6201465 ],\n",
              "       [0.62815934],\n",
              "       [0.63722926],\n",
              "       [0.6460899 ],\n",
              "       [0.62274283],\n",
              "       [0.6125095 ],\n",
              "       [0.61180854],\n",
              "       [0.62416875],\n",
              "       [0.6371248 ],\n",
              "       [0.6384357 ],\n",
              "       [0.63659835],\n",
              "       [0.64435685],\n",
              "       [0.6553612 ],\n",
              "       [0.64818585],\n",
              "       [0.6479559 ],\n",
              "       [0.61420834],\n",
              "       [0.6118345 ],\n",
              "       [0.62297326],\n",
              "       [0.6431409 ],\n",
              "       [0.667307  ],\n",
              "       [0.692971  ],\n",
              "       [0.7000266 ],\n",
              "       [0.7028219 ],\n",
              "       [0.70790565],\n",
              "       [0.72316104],\n",
              "       [0.71642846],\n",
              "       [0.71513593],\n",
              "       [0.71113634],\n",
              "       [0.711356  ],\n",
              "       [0.7110898 ],\n",
              "       [0.7336938 ],\n",
              "       [0.74161935],\n",
              "       [0.74652207],\n",
              "       [0.7223084 ],\n",
              "       [0.70462173],\n",
              "       [0.7028124 ],\n",
              "       [0.6906613 ],\n",
              "       [0.6934959 ],\n",
              "       [0.69979805],\n",
              "       [0.68084586],\n",
              "       [0.665527  ],\n",
              "       [0.6542536 ],\n",
              "       [0.6526291 ],\n",
              "       [0.6656008 ],\n",
              "       [0.6706626 ],\n",
              "       [0.6727767 ],\n",
              "       [0.66534764],\n",
              "       [0.6716611 ],\n",
              "       [0.68026346],\n",
              "       [0.6791998 ],\n",
              "       [0.681983  ],\n",
              "       [0.70018023],\n",
              "       [0.7051369 ],\n",
              "       [0.72047496],\n",
              "       [0.72675556],\n",
              "       [0.7319957 ],\n",
              "       [0.74232733],\n",
              "       [0.76669383],\n",
              "       [0.77010155],\n",
              "       [0.7735468 ],\n",
              "       [0.7694171 ],\n",
              "       [0.7785008 ],\n",
              "       [0.81346005],\n",
              "       [0.7931309 ],\n",
              "       [0.7566166 ],\n",
              "       [0.71330565],\n",
              "       [0.706923  ],\n",
              "       [0.70111924],\n",
              "       [0.6988567 ],\n",
              "       [0.6992281 ],\n",
              "       [0.7097861 ],\n",
              "       [0.70731705],\n",
              "       [0.6940188 ],\n",
              "       [0.6716276 ],\n",
              "       [0.6467634 ],\n",
              "       [0.6493701 ],\n",
              "       [0.6334044 ],\n",
              "       [0.63101035],\n",
              "       [0.6384019 ],\n",
              "       [0.6514384 ],\n",
              "       [0.6596491 ],\n",
              "       [0.66194844],\n",
              "       [0.66921   ],\n",
              "       [0.6585777 ],\n",
              "       [0.66296434],\n",
              "       [0.6518131 ],\n",
              "       [0.6485182 ],\n",
              "       [0.65940243],\n",
              "       [0.6795131 ],\n",
              "       [0.7127927 ],\n",
              "       [0.7301223 ],\n",
              "       [0.7334841 ],\n",
              "       [0.7273082 ],\n",
              "       [0.7271502 ],\n",
              "       [0.71054655],\n",
              "       [0.7118325 ],\n",
              "       [0.73150885],\n",
              "       [0.7521762 ],\n",
              "       [0.77282006],\n",
              "       [0.75862163],\n",
              "       [0.7522864 ],\n",
              "       [0.7100989 ],\n",
              "       [0.7109391 ],\n",
              "       [0.73931724],\n",
              "       [0.75915277],\n",
              "       [0.7777909 ],\n",
              "       [0.8264507 ],\n",
              "       [0.8537909 ],\n",
              "       [0.85921276],\n",
              "       [0.85438234],\n",
              "       [0.8386229 ],\n",
              "       [0.8366014 ],\n",
              "       [0.8378971 ],\n",
              "       [0.8545514 ],\n",
              "       [0.86771643],\n",
              "       [0.87054867],\n",
              "       [0.861215  ],\n",
              "       [0.8649685 ],\n",
              "       [0.8594672 ],\n",
              "       [0.8549044 ],\n",
              "       [0.8695661 ],\n",
              "       [0.87981474],\n",
              "       [0.8936895 ],\n",
              "       [0.8839128 ],\n",
              "       [0.89289975],\n",
              "       [0.9106484 ],\n",
              "       [0.9172796 ],\n",
              "       [0.9178609 ],\n",
              "       [0.91149855],\n",
              "       [0.90630317],\n",
              "       [0.8875284 ],\n",
              "       [0.8745897 ],\n",
              "       [0.8729662 ],\n",
              "       [0.86482674],\n",
              "       [0.86488163],\n",
              "       [0.8631579 ],\n",
              "       [0.85534245],\n",
              "       [0.84318036],\n",
              "       [0.8404887 ],\n",
              "       [0.8334086 ],\n",
              "       [0.83436114],\n",
              "       [0.83893406],\n",
              "       [0.8581438 ],\n",
              "       [0.8604499 ],\n",
              "       [0.8517465 ],\n",
              "       [0.8524711 ],\n",
              "       [0.84499294],\n",
              "       [0.84877276]], dtype=float32)"
            ]
          },
          "metadata": {
            "tags": []
          },
          "execution_count": 31
        }
      ]
    },
    {
      "cell_type": "markdown",
      "metadata": {
        "id": "h29dCFyNxaGv"
      },
      "source": [
        "# Plotting closing prices of testing vs predicted data"
      ]
    },
    {
      "cell_type": "code",
      "metadata": {
        "colab": {
          "base_uri": "https://localhost:8080/",
          "height": 282
        },
        "id": "XrROPgSsq1yd",
        "outputId": "97eeb308-2482-4da1-b969-58681423e8ae"
      },
      "source": [
        "plt.plot(y_pred)"
      ],
      "execution_count": 32,
      "outputs": [
        {
          "output_type": "execute_result",
          "data": {
            "text/plain": [
              "[<matplotlib.lines.Line2D at 0x7f241e4d4cf8>]"
            ]
          },
          "metadata": {
            "tags": []
          },
          "execution_count": 32
        },
        {
          "output_type": "display_data",
          "data": {
            "image/png": "[encoded data removed]",
            "text/plain": [
              "<Figure size 432x288 with 1 Axes>"
            ]
          },
          "metadata": {
            "tags": [],
            "needs_background": "light"
          }
        }
      ]
    },
    {
      "cell_type": "code",
      "metadata": {
        "colab": {
          "base_uri": "https://localhost:8080/",
          "height": 282
        },
        "id": "PEQn6XdGq96U",
        "outputId": "47683f3a-ad10-4ac9-f44e-cee02db70e7b"
      },
      "source": [
        "plt.plot(y_test)"
      ],
      "execution_count": 33,
      "outputs": [
        {
          "output_type": "execute_result",
          "data": {
            "text/plain": [
              "[<matplotlib.lines.Line2D at 0x7f241e18e320>]"
            ]
          },
          "metadata": {
            "tags": []
          },
          "execution_count": 33
        },
        {
          "output_type": "display_data",
          "data": {
            "image/png": "[encoded data removed]",
            "text/plain": [
              "<Figure size 432x288 with 1 Axes>"
            ]
          },
          "metadata": {
            "tags": [],
            "needs_background": "light"
          }
        }
      ]
    },
    {
      "cell_type": "markdown",
      "metadata": {
        "id": "FG0lNM2txiyL"
      },
      "source": [
        "# Saving the model"
      ]
    },
    {
      "cell_type": "code",
      "metadata": {
        "id": "8owfMUsPrCO1"
      },
      "source": [
        "model.save('model.h5')"
      ],
      "execution_count": 34,
      "outputs": []
    },
    {
      "cell_type": "code",
      "metadata": {
        "id": "uPnWoVrvs-iR"
      },
      "source": [
        ""
      ],
      "execution_count": null,
      "outputs": []
    }
  ]
}